{
 "cells": [
  {
   "cell_type": "code",
   "execution_count": 1,
   "metadata": {},
   "outputs": [],
   "source": [
    "import pandas as pd\n",
    "import numpy as np\n",
    "import time\n",
    "import torch\n",
    "from torch.utils.data import Dataset, DataLoader\n",
    "import torch.nn as nn\n",
    "from sklearn.utils import random\n",
    "from sklearn.model_selection import train_test_split\n",
    "\n",
    "from collections import OrderedDict\n",
    "\n",
    "combined_data = pd.read_hdf(\"../source_files/combined_data_C1.hdf5\")\n",
    "\n",
    "INPUT_COLUMNS = [\"px\", \"pz\", \"start_speed\", \"spin_rate\", \"spin_dir\", \"zone\", \"pitch_type\"]\n",
    "CONTEXT_COLUMNS = [\"b_score\", \"p_score\", \"b_count\", \"s_count\", \"outs\", \"pitch_num\", \\\n",
    "    \"on_1b\", \"on_2b\", \"on_3b\", \"inning\", \"p_throws\", \"stand\", \"top\"]\n",
    "OUTPUT_COLUMNS = [\"at_bat_score\"]\n",
    "\n",
    "inputs = combined_data[INPUT_COLUMNS].copy()\n",
    "context = combined_data[CONTEXT_COLUMNS].copy()\n",
    "\n",
    "#------------- One-Hot Encode  -----------------\n",
    "inputs = pd.concat([inputs, pd.get_dummies(inputs.pitch_type)], axis=1)\n",
    "inputs = inputs.drop(labels=\"pitch_type\", axis=1)\n",
    "\n",
    "context[[\"p_throws\", \"stand\"]] = context[[\"p_throws\", \"stand\"]] == \"R\"\n",
    "context[[\"p_throws\", \"stand\", \"top\"]] = context[[\"p_throws\", \"stand\", \"top\"]].astype(int)\n",
    "context = context.rename(columns={\"p_throws\":\"p_isrighty\", \"stand\":\"b_isrighty\", \"top\":\"is_top_inning\"})\n",
    "\n",
    "combined_inputs = pd.concat([inputs, context], axis=1)\n",
    "combined_inputs = torch.tensor(combined_inputs.values)\n",
    "outputs = torch.tensor(combined_data[OUTPUT_COLUMNS].values)"
   ]
  },
  {
   "cell_type": "code",
   "execution_count": 2,
   "metadata": {},
   "outputs": [],
   "source": [
    "class FFNetPytorch(nn.Module):\n",
    "  def __init__(self, input_size, output_size, hidden_size=256):\n",
    "    super(FFNetPytorch, self).__init__()\n",
    "    '''\n",
    "    Define the layers of the neural network. One hidden layer and output layer.\n",
    "    The activation function used in between the two layers is sigmoid.\n",
    "    '''\n",
    "    self.layer1 = nn.Linear(input_size, hidden_size, bias = True)\n",
    "    self.layer2 = nn.Linear(hidden_size, output_size, bias = True)\n",
    "    self.double()\n",
    "    \n",
    "\n",
    "  def forward(self, x):\n",
    "    '''\n",
    "    :param x: input to the model (N, NUM_FEATURES)\n",
    "\n",
    "    :return:\n",
    "      output: logits of the last layer of the model \n",
    "    '''\n",
    "    x = torch.sigmoid(self.layer1(x))\n",
    "    x = self.layer2(x)\n",
    "\n",
    "    return x\n",
    "\n",
    "class CustomDataset(Dataset):\n",
    "  def __init__(self, X, Y):\n",
    "    self.X = X\n",
    "    self.Y = Y\n",
    "\n",
    "  def __getitem__(self, i):\n",
    "    return self.X[i, ...], self.Y[i]\n",
    "  \n",
    "  def __len__(self):\n",
    "    return self.X.shape[0]\n"
   ]
  },
  {
   "cell_type": "markdown",
   "metadata": {},
   "source": [
    "Training"
   ]
  },
  {
   "cell_type": "code",
   "execution_count": 5,
   "metadata": {},
   "outputs": [
    {
     "name": "stdout",
     "output_type": "stream",
     "text": [
      "Epoch: 0, time: 50.01072382926941\n",
      "Epoch: 1, time: 95.41782402992249\n",
      "Epoch: 2, time: 146.84733605384827\n",
      "Batch_size = 32, Time per epoch = 48.94914436340332\n",
      "Epoch: 0, time: 31.915510177612305\n",
      "Epoch: 1, time: 60.69106411933899\n",
      "Epoch: 2, time: 91.65121793746948\n",
      "Batch_size = 64, Time per epoch = 30.550445318222046\n",
      "Epoch: 0, time: 20.60319423675537\n",
      "Epoch: 1, time: 46.164302110672\n",
      "Epoch: 2, time: 66.74497628211975\n",
      "Batch_size = 128, Time per epoch = 22.248362461725872\n",
      "Epoch: 0, time: 17.61821484565735\n",
      "Epoch: 1, time: 36.43564009666443\n",
      "Epoch: 2, time: 54.4528489112854\n",
      "Batch_size = 256, Time per epoch = 18.150980949401855\n",
      "Epoch: 0, time: 15.555701732635498\n",
      "Epoch: 1, time: 30.935933828353882\n",
      "Epoch: 2, time: 46.07291579246521\n",
      "Batch_size = 512, Time per epoch = 15.357678333918253\n",
      "Epoch: 0, time: 15.548192024230957\n",
      "Epoch: 1, time: 30.95949387550354\n",
      "Epoch: 2, time: 46.665865898132324\n",
      "Batch_size = 1024, Time per epoch = 15.555333296457926\n",
      "Epoch: 0, time: 16.246941089630127\n",
      "Epoch: 1, time: 32.40244102478027\n",
      "Epoch: 2, time: 49.240307092666626\n",
      "Batch_size = 2048, Time per epoch = 16.413491010665894\n",
      "Epoch: 0, time: 18.759448051452637\n",
      "Epoch: 1, time: 38.4470431804657\n",
      "Epoch: 2, time: 58.459409952163696\n",
      "Batch_size = 4096, Time per epoch = 19.486511945724487\n",
      "Epoch: 0, time: 20.329157829284668\n",
      "Epoch: 1, time: 39.84093904495239\n",
      "Epoch: 2, time: 59.189934968948364\n",
      "Batch_size = 8192, Time per epoch = 19.73003101348877\n",
      "Epoch: 0, time: 20.5501070022583\n",
      "Epoch: 1, time: 40.95428705215454\n",
      "Epoch: 2, time: 61.47434091567993\n",
      "Batch_size = 16384, Time per epoch = 20.491485993067425\n",
      "Epoch: 0, time: 21.138909101486206\n",
      "Epoch: 1, time: 42.36122798919678\n",
      "Epoch: 2, time: 64.12557101249695\n",
      "Batch_size = 32768, Time per epoch = 21.375224987665813\n",
      "Epoch: 0, time: 21.384180068969727\n",
      "Epoch: 1, time: 42.82330131530762\n",
      "Epoch: 2, time: 64.47634315490723\n",
      "Batch_size = 65536, Time per epoch = 21.49215269088745\n",
      "Epoch: 0, time: 21.11967396736145\n",
      "Epoch: 1, time: 41.83844995498657\n",
      "Epoch: 2, time: 61.99977993965149\n",
      "Batch_size = 131072, Time per epoch = 20.666635751724243\n",
      "Epoch: 0, time: 20.341287851333618\n",
      "Epoch: 1, time: 41.633471965789795\n",
      "Epoch: 2, time: 63.431174755096436\n",
      "Batch_size = 262144, Time per epoch = 21.1437672773997\n"
     ]
    }
   ],
   "source": [
    "#------------- Train --------------\n",
    "X_train, X_test, Y_train, Y_test = \\\n",
    "    train_test_split(combined_inputs, outputs, test_size=0.2, random_state=42)\n",
    "\n",
    "NUM_FEATURES = X_train.shape[1]\n",
    "NUM_CLASSES = 1\n",
    "HIDDEN_SIZE = 50\n",
    "#batch_size = 1024\n",
    "max_epochs = 3\n",
    "print_every = 1\n",
    "\n",
    "mini_batches = []\n",
    "times = []\n",
    "\n",
    "for e in range(8):\n",
    "  batch_size = 2**(e+5)\n",
    "  model = FFNetPytorch(NUM_FEATURES, NUM_CLASSES, hidden_size=HIDDEN_SIZE)\n",
    "  losses =[]\n",
    "\n",
    "  optimizer = torch.optim.Adam(model.parameters(), lr=1e-4)\n",
    "  loss_fn = nn.MSELoss()\n",
    "  torch.manual_seed(314159)\n",
    "  device = \"cpu\"\n",
    "\n",
    "  dataset_train = CustomDataset(X_train, Y_train)\n",
    "  dataset_test = CustomDataset(X_test, Y_test)\n",
    "\n",
    "  model = model.to(device)\n",
    "  train_loader = DataLoader(dataset_train, batch_size=batch_size, shuffle=True)\n",
    "  model.train()\n",
    "\n",
    "  accuracies = []\n",
    "  total_epochs = max_epochs + len(losses)\n",
    "  start_time = time.time()\n",
    "  for epoch in range(max_epochs):  \n",
    "    batch_losses = []\n",
    "    for batch_idx, (data, target) in enumerate(train_loader):\n",
    "      data, target = data.to(device), target.to(device)\n",
    "      optimizer.zero_grad()\n",
    "      output = model(data)\n",
    "      loss = loss_fn(output, target)\n",
    "      loss.backward()\n",
    "      optimizer.step()\n",
    "      batch_losses.append(loss.item())\n",
    "    losses.append(torch.mean(torch.Tensor(batch_losses)).item())\n",
    "    print(f\"Epoch: {epoch}, time: {time.time()-start_time}\")\n",
    "  \n",
    "  end_time = time.time()\n",
    "  time_elapsed = end_time - start_time\n",
    "\n",
    "  mini_batches.append(batch_size)\n",
    "  times.append(time_elapsed/max_epochs)\n",
    "  print(f\"Batch_size = {batch_size}, Time per epoch = {time_elapsed/max_epochs}\")\n",
    "\n",
    "\n",
    "\n"
   ]
  },
  {
   "cell_type": "markdown",
   "metadata": {},
   "source": []
  },
  {
   "cell_type": "code",
   "execution_count": 11,
   "metadata": {},
   "outputs": [
    {
     "data": {
      "text/plain": [
       "Text(0, 0.5, 'Time per epoch')"
      ]
     },
     "execution_count": 11,
     "metadata": {},
     "output_type": "execute_result"
    },
    {
     "data": {
      "image/png": "[encoded data removed]",
      "text/plain": [
       "<Figure size 640x480 with 1 Axes>"
      ]
     },
     "metadata": {},
     "output_type": "display_data"
    }
   ],
   "source": [
    "import matplotlib.pyplot as plt\n",
    "\n",
    "plt.figure()\n",
    "plt.plot(np.log(mini_batches)/np.log(2), np.array(times)/max_epochs)\n",
    "plt.xlabel(\"log_2(Batch Size)\")\n",
    "plt.ylabel(\"Time per epoch\")"
   ]
  },
  {
   "cell_type": "code",
   "execution_count": 12,
   "metadata": {},
   "outputs": [
    {
     "name": "stdout",
     "output_type": "stream",
     "text": [
      "Test_loss = 3.580965995788574 \n"
     ]
    }
   ],
   "source": [
    "model = model.to(device)\n",
    "test_loader = DataLoader(dataset_test, batch_size=batch_size, shuffle=True)\n",
    "losses = []\n",
    "accuracies = []\n",
    "model.eval()\n",
    "batch_losses = []\n",
    "\n",
    "for batch_idx, (data, target) in enumerate(test_loader):\n",
    "  data, target = data.to(device), target.to(device)\n",
    "  output = model(data)\n",
    "  loss = loss_fn(output, target)\n",
    "  prediction = torch.argmax(output, dim=1)\n",
    "  batch_losses.append(loss.item())\n",
    "\n",
    "test_loss = torch.mean(torch.Tensor(batch_losses)).item()\n",
    "print(f'Test_loss = {test_loss} ')"
   ]
  }
 ],
 "metadata": {
  "interpreter": {
   "hash": "aee8b7b246df8f9039afb4144a1f6fd8d2ca17a180786b69acc140d282b71a49"
  },
  "kernelspec": {
   "display_name": "Python 3.10.5 64-bit",
   "language": "python",
   "name": "python3"
  },
  "language_info": {
   "codemirror_mode": {
    "name": "ipython",
    "version": 3
   },
   "file_extension": ".py",
   "mimetype": "text/x-python",
   "name": "python",
   "nbconvert_exporter": "python",
   "pygments_lexer": "ipython3",
   "version": "3.10.5"
  },
  "orig_nbformat": 4
 },
 "nbformat": 4,
 "nbformat_minor": 2
}
