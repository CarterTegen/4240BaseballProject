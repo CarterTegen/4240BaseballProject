{
 "cells": [
  {
   "cell_type": "code",
   "execution_count": 1,
   "metadata": {},
   "outputs": [],
   "source": [
    "import pandas as pd\n",
    "import numpy as np\n",
    "import torch\n",
    "from torch.utils.data import Dataset, DataLoader\n",
    "import torch.nn as nn\n",
    "from sklearn.utils import random\n",
    "from sklearn.model_selection import train_test_split"
   ]
  },
  {
   "cell_type": "code",
   "execution_count": 4,
   "metadata": {},
   "outputs": [],
   "source": [
    "class FFNetPytorch(nn.Module):\n",
    "  def __init__(self, input_size, output_size, hl1=256, hl2=256):\n",
    "    super(FFNetPytorch, self).__init__()\n",
    "    '''\n",
    "    Define the layers of the neural network. One hidden layer and output layer.\n",
    "    The activation function used in between the two layers is sigmoid.\n",
    "    '''\n",
    "    self.layer1 = nn.Linear(input_size, hl1, bias = True)\n",
    "    self.layer2 = nn.Linear(hl1, hl2, bias = True)\n",
    "    self.layer3 = nn.Linear(hl2, output_size, bias=True)\n",
    "    self.double()\n",
    "    \n",
    "\n",
    "  def forward(self, x):\n",
    "    '''\n",
    "    :param x: input to the model (N, NUM_FEATURES)\n",
    "\n",
    "    :return:\n",
    "      output: logits of the last layer of the model \n",
    "    '''\n",
    "    x = torch.sigmoid(self.layer1(x))\n",
    "    x = torch.sigmoid(self.layer2(x))\n",
    "    x = self.layer3(x)\n",
    "\n",
    "    return x\n",
    "\n",
    "class CustomDataset(Dataset):\n",
    "  def __init__(self, X, Y):\n",
    "    self.X = X\n",
    "    self.Y = Y\n",
    "\n",
    "  def __getitem__(self, i):\n",
    "    return self.X[i, ...], self.Y[i]\n",
    "  \n",
    "  def __len__(self):\n",
    "    return self.X.shape[0]"
   ]
  },
  {
   "cell_type": "code",
   "execution_count": 5,
   "metadata": {},
   "outputs": [
    {
     "name": "stdout",
     "output_type": "stream",
     "text": [
      "Zone: 1, Result: 0.8693545782895769\n",
      "Zone: 2, Result: 0.8711780125228579\n",
      "Zone: 3, Result: 0.8737979771682081\n",
      "Zone: 4, Result: 0.877535731754538\n",
      "Zone: 5, Result: 0.8827492158357593\n",
      "Zone: 6, Result: 0.8898040944653518\n",
      "Zone: 7, Result: 0.899021441059239\n",
      "Zone: 8, Result: 0.9105985695935699\n",
      "Zone: 9, Result: 0.9245080611309318\n",
      "Zone: 11, Result: 0.9575098516707863\n",
      "Zone: 12, Result: 0.9747231620668866\n",
      "Zone: 13, Result: 0.9906512453496819\n",
      "Zone: 14, Result: 1.0038746564937158\n"
     ]
    }
   ],
   "source": [
    "#BECAUSE NO PXPY\n",
    "import pandas as pd\n",
    "INPUT_COLUMNS = [\"start_speed\", \"spin_rate\", \"spin_dir\", \"zone\", \"pitch_type\"]\n",
    "CONTEXT_COLUMNS = [\"b_score\", \"p_score\", \"b_count\", \"s_count\", \"outs\", \"pitch_num\", \\\n",
    "    \"on_1b\", \"on_2b\", \"on_3b\", \"inning\", \"p_throws\", \"stand\", \"top\"]\n",
    "OUTPUT_COLUMNS = [\"at_bat_score\"]\n",
    "\n",
    "combined_data = pd.read_hdf(\"../source_files/model_data.hdf5\")\n",
    "inputs = combined_data.iloc[:, 0:-1].copy()\n",
    "outputs = combined_data.iloc[:, -1].copy()\n",
    "\n",
    "inputs_t = torch.tensor(combined_data.iloc[:, 0:-1].values)\n",
    "outputs_t = torch.tensor(combined_data.iloc[:, -1].values)\n",
    "\n",
    "model = torch.load(\"models/HL2_100_25.pt\")\n",
    "\n",
    "pitch = inputs.iloc[0, :].copy()\n",
    "#print(pitch)\n",
    "pitch[\"s_count\"] = 2\n",
    "pitch[\"pitch_num\"] = 3\n",
    "\n",
    "for zone in range(1,15):\n",
    "    if zone==10: continue\n",
    "    pitch[\"zone\"] = zone\n",
    "    print(f\"Zone: {zone}, Result: {model(torch.tensor(pitch)).item()}\")"
   ]
  }
 ],
 "metadata": {
  "interpreter": {
   "hash": "aee8b7b246df8f9039afb4144a1f6fd8d2ca17a180786b69acc140d282b71a49"
  },
  "kernelspec": {
   "display_name": "Python 3.10.5 64-bit",
   "language": "python",
   "name": "python3"
  },
  "language_info": {
   "codemirror_mode": {
    "name": "ipython",
    "version": 3
   },
   "file_extension": ".py",
   "mimetype": "text/x-python",
   "name": "python",
   "nbconvert_exporter": "python",
   "pygments_lexer": "ipython3",
   "version": "3.10.5"
  },
  "orig_nbformat": 4
 },
 "nbformat": 4,
 "nbformat_minor": 2
}
