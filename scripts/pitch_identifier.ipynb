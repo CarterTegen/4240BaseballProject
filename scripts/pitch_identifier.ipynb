{
 "cells": [
  {
   "cell_type": "code",
   "execution_count": 4,
   "metadata": {},
   "outputs": [
    {
     "name": "stdout",
     "output_type": "stream",
     "text": [
      "Collecting tables\n",
      "  Downloading tables-3.8.0-cp39-cp39-manylinux_2_17_x86_64.manylinux2014_x86_64.whl (6.5 MB)\n",
      "\u001b[2K     \u001b[90m━━━━━━━━━━━━━━━━━━━━━━━━━━━━━━━━━━━━━━━━\u001b[0m \u001b[32m6.5/6.5 MB\u001b[0m \u001b[31m40.7 MB/s\u001b[0m eta \u001b[36m0:00:00\u001b[0m00:01\u001b[0m00:01\u001b[0m\n",
      "\u001b[?25hCollecting blosc2~=2.0.0\n",
      "  Downloading blosc2-2.0.0-cp39-cp39-manylinux_2_17_x86_64.manylinux2014_x86_64.whl (3.9 MB)\n",
      "\u001b[2K     \u001b[90m━━━━━━━━━━━━━━━━━━━━━━━━━━━━━━━━━━━━━━━━\u001b[0m \u001b[32m3.9/3.9 MB\u001b[0m \u001b[31m43.8 MB/s\u001b[0m eta \u001b[36m0:00:00\u001b[0m00:01\u001b[0m00:01\u001b[0m\n",
      "\u001b[?25hCollecting py-cpuinfo\n",
      "  Downloading py_cpuinfo-9.0.0-py3-none-any.whl (22 kB)\n",
      "Requirement already satisfied: packaging in /usr/local/lib/python3.9/dist-packages (from tables) (23.0)\n",
      "Collecting numexpr>=2.6.2\n",
      "  Downloading numexpr-2.8.4-cp39-cp39-manylinux_2_17_x86_64.manylinux2014_x86_64.whl (380 kB)\n",
      "\u001b[2K     \u001b[90m━━━━━━━━━━━━━━━━━━━━━━━━━━━━━━━━━━━━━━\u001b[0m \u001b[32m380.7/380.7 kB\u001b[0m \u001b[31m40.1 MB/s\u001b[0m eta \u001b[36m0:00:00\u001b[0m\n",
      "\u001b[?25hRequirement already satisfied: cython>=0.29.21 in /usr/local/lib/python3.9/dist-packages (from tables) (0.29.32)\n",
      "Requirement already satisfied: numpy>=1.19.0 in /usr/local/lib/python3.9/dist-packages (from tables) (1.23.4)\n",
      "Requirement already satisfied: msgpack in /usr/local/lib/python3.9/dist-packages (from blosc2~=2.0.0->tables) (1.0.4)\n",
      "Installing collected packages: py-cpuinfo, numexpr, blosc2, tables\n",
      "Successfully installed blosc2-2.0.0 numexpr-2.8.4 py-cpuinfo-9.0.0 tables-3.8.0\n",
      "\u001b[33mWARNING: Running pip as the 'root' user can result in broken permissions and conflicting behaviour with the system package manager. It is recommended to use a virtual environment instead: https://pip.pypa.io/warnings/venv\u001b[0m\u001b[33m\n",
      "\u001b[0m"
     ]
    }
   ],
   "source": [
    "!pip install tables\n",
    "import pandas as pd\n",
    "import numpy as np\n",
    "import torch\n",
    "from pickle import dump, load\n",
    "from torch.utils.data import Dataset, DataLoader\n",
    "import torch.nn as nn\n",
    "from sklearn.utils import random\n",
    "from sklearn.model_selection import train_test_split\n",
    "import scipy.optimize\n",
    "from scipy.optimize import Bounds\n",
    "\n",
    "import warnings\n",
    "warnings.filterwarnings('ignore')"
   ]
  },
  {
   "cell_type": "markdown",
   "metadata": {},
   "source": [
    "Init NN"
   ]
  },
  {
   "cell_type": "code",
   "execution_count": 2,
   "metadata": {},
   "outputs": [],
   "source": [
    "class FFNetPytorch(nn.Module):\n",
    "  def __init__(self, input_size, output_size, hl1=100, hl2=25):\n",
    "    super(FFNetPytorch, self).__init__()\n",
    "    '''\n",
    "    Define the layers of the neural network. One hidden layer and output layer.\n",
    "    The activation function used in between the two layers is sigmoid.\n",
    "    '''\n",
    "    self.layer1 = nn.Linear(input_size, hl1, bias = True)\n",
    "    self.layer2 = nn.Linear(hl1, output_size, bias=True)\n",
    "\n",
    "    self.to(torch.float32)\n",
    "    \n",
    "\n",
    "  def forward(self, x):\n",
    "    '''\n",
    "    :param x: input to the model (N, NUM_FEATURES)\n",
    "\n",
    "    :return:\n",
    "      output: logits of the last layer of the model \n",
    "    '''\n",
    "    x = torch.relu(self.layer1(x))\n",
    "    x = self.layer2(x)\n",
    "\n",
    "    return x"
   ]
  },
  {
   "cell_type": "markdown",
   "metadata": {},
   "source": [
    "Import Data"
   ]
  },
  {
   "cell_type": "code",
   "execution_count": 5,
   "metadata": {},
   "outputs": [
    {
     "data": {
      "text/plain": [
       "<torch.autograd.grad_mode.no_grad at 0x7f11200b4520>"
      ]
     },
     "execution_count": 5,
     "metadata": {},
     "output_type": "execute_result"
    }
   ],
   "source": [
    "#BECAUSE NO PXPY\n",
    "import pandas as pd\n",
    "INPUT_COLUMNS = [\"start_speed\", \"spin_rate\", \"spin_dir\", \"zone\", \"pitch_type\"]\n",
    "CONTEXT_COLUMNS = [\"b_score\", \"p_score\", \"b_count\", \"s_count\", \"outs\", \"pitch_num\", \\\n",
    "    \"on_1b\", \"on_2b\", \"on_3b\", \"inning\", \"p_throws\", \"stand\", \"top\"]\n",
    "OUTPUT_COLUMNS = [\"at_bat_score\"]\n",
    "\n",
    "combined_data = pd.read_hdf(\"source_files/model_data.hdf5\")\n",
    "inputs = combined_data.iloc[:, 0:-1].copy()\n",
    "outputs = combined_data.iloc[:, -1].copy()\n",
    "\n",
    "inputs_t = torch.tensor(combined_data.iloc[:, 0:-1].values)\n",
    "outputs_t = torch.tensor(combined_data.iloc[:, -1].values)\n",
    "\n",
    "model = torch.load(\"scripts/batting/models/HL1_64.pt\")\n",
    "model.eval()\n",
    "torch.no_grad()"
   ]
  },
  {
   "cell_type": "markdown",
   "metadata": {},
   "source": [
    "Constraints for each type of pitch. Takes 25% and 75% Percentile of speed,\n",
    "spin, and spin dir"
   ]
  },
  {
   "cell_type": "code",
   "execution_count": 6,
   "metadata": {},
   "outputs": [],
   "source": [
    "convert_name = {\"CH\": \"Changeup\",\n",
    "                \"CU\": \"Curveball\",\n",
    "                \"FC\": \"Cutter\",\n",
    "                \"FF\": \"Four-Seam Fastball\",\n",
    "                \"FS\": \"Splitter\",\n",
    "                \"FT\": \"Two-Seam Fastball\",\n",
    "                \"KC\": \"Knuckle Curve\",\n",
    "                \"KN\": \"Knuckleball\",\n",
    "                \"SC\": \"Screwball\",\n",
    "                \"SI\": \"Sinker\",\n",
    "                \"SL\": \"Slider\"}\n",
    "\n",
    "#Initialize constraints for pitches\n",
    "pitch_constraints = {}\n",
    "\n",
    "PITCH_TYPES = ['CH', 'CU', 'FC', 'FF', 'FS', 'FT', 'KC', 'KN', 'SI', 'SL']\n",
    "ZONES = [1, 2, 3, 4, 5, 6, 7, 8, 9, 11, 12, 13, 14]\n",
    "\n",
    "for pitch_type in PITCH_TYPES:\n",
    "    constraints = {}\n",
    "    pitches = inputs[inputs[pitch_type] == 1]\n",
    "\n",
    "    speed_bounds = pitches[\"start_speed\"].quantile([0.25, 0.75])\n",
    "    constraints[\"min_speed\"], constraints[\"max_speed\"] = speed_bounds.iloc[0], speed_bounds.iloc[1]\n",
    "    \n",
    "    srate_bounds = pitches[\"spin_rate\"].quantile([0.25, 0.75])\n",
    "    constraints[\"min_srate\"], constraints[\"max_srate\"] = srate_bounds.iloc[0], srate_bounds.iloc[1]\n",
    "\n",
    "    sdir_bounds = pitches[\"spin_dir\"].quantile([0.25, 0.75])\n",
    "    constraints[\"min_sdir\"], constraints[\"max_sdir\"] = sdir_bounds.iloc[0], sdir_bounds.iloc[1]\n",
    "\n",
    "    pitch_constraints[pitch_type] = constraints"
   ]
  },
  {
   "cell_type": "markdown",
   "metadata": {},
   "source": [
    "Objective function for minimizer"
   ]
  },
  {
   "cell_type": "code",
   "execution_count": 7,
   "metadata": {},
   "outputs": [],
   "source": [
    "def objective(x, *args):\n",
    "    model, context, pitch_type, scaler = args[0], args[1], args[2], args[3]\n",
    "    \n",
    "    pitches = [pitch_type==val for val in PITCH_TYPES]\n",
    "    pitches = pd.Series(pitches, index=PITCH_TYPES, dtype=float)\n",
    "\n",
    "    inputs = pd.Series([x[0], x[1], x[2], x[3], x[4]], index=[\"start_speed\", \"spin_rate\", \"spin_dir\", \"px\", \"pz\"], dtype=float)\n",
    "\n",
    "    pitch = pd.concat([inputs, pitches, context])\n",
    "\n",
    "    pitch = scaler.transform(np.array(pitch.values).reshape(1, -1))\n",
    "    \n",
    "    return -model(torch.tensor(pitch, dtype=torch.float32).cpu()).item()"
   ]
  },
  {
   "cell_type": "markdown",
   "metadata": {},
   "source": [
    "Configure context and determine best pitch for given situation"
   ]
  },
  {
   "cell_type": "code",
   "execution_count": 21,
   "metadata": {},
   "outputs": [
    {
     "name": "stdout",
     "output_type": "stream",
     "text": [
      "Pitch Type: Curveball         , px: 0.0459, pz: 2.0463, Speed: 81.50, Spin Rate: 1625.28, Spin Dir: 267.34, Score: 0.143\n",
      "Pitch Type: Cutter            , px: 0.6272, pz: 2.5024, Speed: 90.15, Spin Rate: 1445.17, Spin Dir: 185.03, Score: 0.074\n",
      "Pitch Type: Knuckle Curve     , px: 0.3175, pz: 1.6945, Speed: 81.72, Spin Rate: 1628.76, Spin Dir: 113.74, Score: 0.022\n",
      "Pitch Type: Splitter          , px: -0.4116, pz: 1.7036, Speed: 86.14, Spin Rate: 1774.74, Spin Dir: 256.50, Score: -0.007\n",
      "Pitch Type: Changeup          , px: -0.3410, pz: 2.2053, Speed: 86.44, Spin Rate: 2029.25, Spin Dir: 245.77, Score: -0.123\n",
      "Pitch Type: Four-Seam Fastball, px: 0.4606, pz: 2.5793, Speed: 95.29, Spin Rate: 2428.36, Spin Dir: 211.29, Score: -0.123\n",
      "Pitch Type: Two-Seam Fastball , px: -0.4923, pz: 2.0240, Speed: 94.42, Spin Rate: 2418.53, Spin Dir: 241.51, Score: -0.175\n",
      "Pitch Type: Sinker            , px: -0.5583, pz: 2.7942, Speed: 94.92, Spin Rate: 2369.62, Spin Dir: 244.67, Score: -0.197\n",
      "Pitch Type: Slider            , px: 0.8195, pz: 1.3850, Speed: 85.71, Spin Rate: 1044.13, Spin Dir: 192.06, Score: -0.575\n",
      "Pitch Type: Knuckleball       , px: -0.3601, pz: 1.0112, Speed: 78.64, Spin Rate: 1132.17, Spin Dir: 257.16, Score: -0.952\n"
     ]
    }
   ],
   "source": [
    "#Initialize Context\n",
    "context = {\n",
    "    \"b_score\": 0,\n",
    "    \"p_score\": 0,\n",
    "    \"b_count\": 3,\n",
    "    \"s_count\": 0,\n",
    "    \"outs\": 0,\n",
    "    \"pitch_num\": 4,\n",
    "    \"on_1b\": 0,\n",
    "    \"on_2b\": 0,\n",
    "    \"on_3b\": 0,\n",
    "    \"inning\": 1,\n",
    "    \"p_isrighty\": 1,\n",
    "    \"b_isrighty\": 0,\n",
    "    \"is_top_inning\": 1\n",
    "}\n",
    "indexes = [key for key, val in context.items()]\n",
    "values = [val for key, val in context.items()]\n",
    "context_df = pd.Series(values, index=indexes, dtype=float)\n",
    "\n",
    "max_score_overall = np.inf\n",
    "max_pitch_overall = None\n",
    "\n",
    "pitch_scores = []\n",
    "max_score_pitch = np.inf\n",
    "max_pitch_cur = None\n",
    "\n",
    "model.cpu()\n",
    "scaler = load(open('scaler.pkl', 'rb'))\n",
    "\n",
    "#Find optimum pitch\n",
    "for pitch_type in PITCH_TYPES:\n",
    "    bounds = Bounds([pitch_constraints[pitch_type][\"min_speed\"], pitch_constraints[pitch_type][\"min_srate\"], pitch_constraints[pitch_type][\"min_sdir\"], -3.0, 0.0], \\\n",
    "            [pitch_constraints[pitch_type][\"max_speed\"], pitch_constraints[pitch_type][\"max_srate\"], pitch_constraints[pitch_type][\"max_sdir\"], 3.0, 5.0])\n",
    "    \n",
    "    #print(pitch_type, zone)\n",
    "    args = (model, context_df, pitch_type, scaler)\n",
    "\n",
    "    x0 = [pitch_constraints[pitch_type][\"max_speed\"], pitch_constraints[pitch_type][\"max_srate\"], pitch_constraints[pitch_type][\"max_sdir\"], 0.1, 0.5]\n",
    "\n",
    "    # optim = scipy.optimize.minimize(objective, x0, args=args,\\\n",
    "    #         method='Nelder-Mead', bounds=bounds, tol = 1e-4, options={\"maxiter\": 1000})\n",
    "    # optim = scipy.optimize.shgo(objective, bounds, args=args,\\\n",
    "    #        n = 100, iters = 1, options={\"maxtime\": 60})\n",
    "\n",
    "    optim = scipy.optimize.basinhopping(objective, x0, niter = 25, minimizer_kwargs = {\"args\": args})\n",
    "\n",
    "    if optim.fun < max_score_overall:\n",
    "        max_score_overall = optim.fun\n",
    "        max_pitch_overall = {\"Pitch Type\": pitch_type,\n",
    "                    \"Speed\": optim.x[0], \n",
    "                    \"Spin Rate\": optim.x[1],\n",
    "                    \"Spin Dir\": optim.x[2],\n",
    "                    \"px\": optim.x[3],\n",
    "                    \"pz\": optim.x[4],\n",
    "                    \"Score\": -optim.fun}\n",
    "    \n",
    "    pitch_scores.append({\"Pitch Type\": pitch_type,\n",
    "                    \"Speed\": optim.x[0], \n",
    "                    \"Spin Rate\": optim.x[1],\n",
    "                    \"Spin Dir\": optim.x[2],\n",
    "                    \"px\": optim.x[3],\n",
    "                    \"pz\": optim.x[4],\n",
    "                    \"Score\": -optim.fun})\n",
    "\n",
    "        \n",
    "pitch_scores = sorted(pitch_scores, key = lambda d: d['Score'], reverse = True)\n",
    "\n",
    "for val in pitch_scores:\n",
    "    print(f\"Pitch Type: {convert_name[val['Pitch Type']].ljust(18)}, px: {val['px']:.4f}, pz: {val['pz']:.4f}, Speed: {val['Speed']:.2f}, Spin Rate: {val['Spin Rate']:.2f}, Spin Dir: {val['Spin Dir']:.2f}, Score: {val['Score']:.3f}\")\n",
    "\n"
   ]
  },
  {
   "cell_type": "code",
   "execution_count": 65,
   "metadata": {},
   "outputs": [
    {
     "name": "stdout",
     "output_type": "stream",
     "text": [
      "0.7539949417114258\n"
     ]
    }
   ],
   "source": [
    "args = (model, context_df, \"FF\", scaler)\n",
    "x = [94.47, 2428.34, 211.83, -0.1, 0.6653]\n",
    "print(-objective(x, args[0], args[1], args[2], args[3]))"
   ]
  },
  {
   "cell_type": "code",
   "execution_count": 19,
   "metadata": {},
   "outputs": [
    {
     "name": "stdout",
     "output_type": "stream",
     "text": [
      "README.md  scaler.pkl  scripts\tsource_files\n"
     ]
    }
   ],
   "source": [
    "!ls"
   ]
  },
  {
   "cell_type": "code",
   "execution_count": null,
   "metadata": {},
   "outputs": [],
   "source": [
    "combined"
   ]
  }
 ],
 "metadata": {
  "interpreter": {
   "hash": "aee8b7b246df8f9039afb4144a1f6fd8d2ca17a180786b69acc140d282b71a49"
  },
  "kernelspec": {
   "display_name": "Python 3 (ipykernel)",
   "language": "python",
   "name": "python3"
  },
  "language_info": {
   "codemirror_mode": {
    "name": "ipython",
    "version": 3
   },
   "file_extension": ".py",
   "mimetype": "text/x-python",
   "name": "python",
   "nbconvert_exporter": "python",
   "pygments_lexer": "ipython3",
   "version": "3.9.16"
  },
  "orig_nbformat": 4
 },
 "nbformat": 4,
 "nbformat_minor": 2
}
