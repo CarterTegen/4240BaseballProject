{
 "cells": [
  {
   "cell_type": "code",
   "execution_count": 20,
   "metadata": {},
   "outputs": [],
   "source": [
    "import pandas as pd\n",
    "import numpy as np\n",
    "import torch\n",
    "from torch.utils.data import Dataset, DataLoader\n",
    "import torch.nn as nn\n",
    "from sklearn.utils import random\n",
    "from sklearn.model_selection import train_test_split\n",
    "import scipy.optimize\n",
    "from scipy.optimize import Bounds\n",
    "\n",
    "import warnings\n",
    "warnings.filterwarnings('ignore')"
   ]
  },
  {
   "cell_type": "markdown",
   "metadata": {},
   "source": [
    "Init NN"
   ]
  },
  {
   "cell_type": "code",
   "execution_count": 6,
   "metadata": {},
   "outputs": [],
   "source": [
    "class FFNetPytorch(nn.Module):\n",
    "  def __init__(self, input_size, output_size, hl1=256, hl2=256):\n",
    "    super(FFNetPytorch, self).__init__()\n",
    "    '''\n",
    "    Define the layers of the neural network. One hidden layer and output layer.\n",
    "    The activation function used in between the two layers is sigmoid.\n",
    "    '''\n",
    "    self.layer1 = nn.Linear(input_size, hl1, bias = True)\n",
    "    self.layer2 = nn.Linear(hl1, hl2, bias = True)\n",
    "    self.layer3 = nn.Linear(hl2, output_size, bias=True)\n",
    "    self.double()\n",
    "    \n",
    "\n",
    "  def forward(self, x):\n",
    "    '''\n",
    "    :param x: input to the model (N, NUM_FEATURES)\n",
    "\n",
    "    :return:\n",
    "      output: logits of the last layer of the model \n",
    "    '''\n",
    "    x = torch.sigmoid(self.layer1(x))\n",
    "    x = torch.sigmoid(self.layer2(x))\n",
    "    x = self.layer3(x)\n",
    "\n",
    "    return x\n",
    "\n",
    "class CustomDataset(Dataset):\n",
    "  def __init__(self, X, Y):\n",
    "    self.X = X\n",
    "    self.Y = Y\n",
    "\n",
    "  def __getitem__(self, i):\n",
    "    return self.X[i, ...], self.Y[i]\n",
    "  \n",
    "  def __len__(self):\n",
    "    return self.X.shape[0]"
   ]
  },
  {
   "cell_type": "markdown",
   "metadata": {},
   "source": [
    "Import Data"
   ]
  },
  {
   "cell_type": "code",
   "execution_count": 7,
   "metadata": {},
   "outputs": [],
   "source": [
    "#BECAUSE NO PXPY\n",
    "import pandas as pd\n",
    "INPUT_COLUMNS = [\"start_speed\", \"spin_rate\", \"spin_dir\", \"zone\", \"pitch_type\"]\n",
    "CONTEXT_COLUMNS = [\"b_score\", \"p_score\", \"b_count\", \"s_count\", \"outs\", \"pitch_num\", \\\n",
    "    \"on_1b\", \"on_2b\", \"on_3b\", \"inning\", \"p_throws\", \"stand\", \"top\"]\n",
    "OUTPUT_COLUMNS = [\"at_bat_score\"]\n",
    "\n",
    "combined_data = pd.read_hdf(\"../source_files/model_data.hdf5\")\n",
    "inputs = combined_data.iloc[:, 0:-1].copy()\n",
    "outputs = combined_data.iloc[:, -1].copy()\n",
    "\n",
    "inputs_t = torch.tensor(combined_data.iloc[:, 0:-1].values)\n",
    "outputs_t = torch.tensor(combined_data.iloc[:, -1].values)\n",
    "\n",
    "model = torch.load(\"models/HL2_100_25.pt\")"
   ]
  },
  {
   "cell_type": "markdown",
   "metadata": {},
   "source": [
    "Constraints for each type of pitch. Takes 25% and 75% Percentile of speed,\n",
    "spin, and spin dir"
   ]
  },
  {
   "cell_type": "code",
   "execution_count": 8,
   "metadata": {},
   "outputs": [],
   "source": [
    "#Initialize constraints for pitches\n",
    "pitch_constraints = {}\n",
    "\n",
    "PITCH_TYPES = ['CH', 'CU', 'FC', 'FF', 'FS', 'FT', 'KC', 'KN', 'SI', 'SL']\n",
    "ZONES = [1, 2, 3, 4, 5, 6, 7, 8, 9, 11, 12, 13, 14]\n",
    "\n",
    "for pitch_type in PITCH_TYPES:\n",
    "    constraints = {}\n",
    "    pitches = inputs[inputs[pitch_type] == 1]\n",
    "\n",
    "    speed_bounds = pitches[\"start_speed\"].quantile([0.25, 0.75])\n",
    "    constraints[\"min_speed\"], constraints[\"max_speed\"] = speed_bounds.iloc[0], speed_bounds.iloc[1]\n",
    "    \n",
    "    srate_bounds = pitches[\"spin_rate\"].quantile([0.25, 0.75])\n",
    "    constraints[\"min_srate\"], constraints[\"max_srate\"] = srate_bounds.iloc[0], srate_bounds.iloc[1]\n",
    "\n",
    "    sdir_bounds = pitches[\"spin_dir\"].quantile([0.25, 0.75])\n",
    "    constraints[\"min_sdir\"], constraints[\"max_sdir\"] = sdir_bounds.iloc[0], sdir_bounds.iloc[1]\n",
    "\n",
    "    pitch_constraints[pitch_type] = constraints\n"
   ]
  },
  {
   "cell_type": "markdown",
   "metadata": {},
   "source": [
    "Objective function for minimizer"
   ]
  },
  {
   "cell_type": "code",
   "execution_count": 15,
   "metadata": {},
   "outputs": [],
   "source": [
    "def objective(x, *args):\n",
    "    model, context, pitch_type, zone = args[0], args[1], args[2], args[3]\n",
    "    \n",
    "    pitches = [pitch_type==val for val in PITCH_TYPES]\n",
    "    pitches = pd.Series(pitches, index=PITCH_TYPES, dtype=float)\n",
    "\n",
    "    inputs = pd.Series([x[0], x[1], x[2], zone], index=[\"start_speed\", \"spin_rate\", \"spin_dir\", \"zone\"], dtype=float)\n",
    "\n",
    "    pitch = pd.concat([inputs, pitches, context])\n",
    "    #print(pitch)\n",
    "    return -model(torch.tensor(pitch)).item()"
   ]
  },
  {
   "cell_type": "markdown",
   "metadata": {},
   "source": [
    "Configure context and determine best pitch for given situation"
   ]
  },
  {
   "cell_type": "code",
   "execution_count": 36,
   "metadata": {},
   "outputs": [
    {
     "name": "stdout",
     "output_type": "stream",
     "text": [
      "{'Pitch Type': 'KC', 'Zone': 1, 'Speed': 82.59900823554034, 'Spin Rate': 1627.101242792179, 'Spin Dir': 47.65885623160626, 'Score': 0.5520223818620446}\n"
     ]
    }
   ],
   "source": [
    "#Initialize Context\n",
    "context = {\n",
    "    \"b_score\": 0,\n",
    "    \"p_score\": 0,\n",
    "    \"b_count\": 3,\n",
    "    \"s_count\": 2,\n",
    "    \"outs\": 0,\n",
    "    \"pitch_num\": 6,\n",
    "    \"on_1b\": 0,\n",
    "    \"on_2b\": 0,\n",
    "    \"on_3b\": 0,\n",
    "    \"inning\": 1,\n",
    "    \"p_isrighty\": 0,\n",
    "    \"b_isrighty\": 0,\n",
    "    \"is_top_inning\": 1\n",
    "}\n",
    "indexes = [key for key, val in context.items()]\n",
    "values = [val for key, val in context.items()]\n",
    "context_df = pd.Series(values, index=indexes, dtype=float)\n",
    "\n",
    "max_score = np.inf\n",
    "max_pitch = None\n",
    "\n",
    "\n",
    "#Find optimum pitch\n",
    "for pitch_type in PITCH_TYPES:\n",
    "    bounds = Bounds([pitch_constraints[pitch_type][\"min_speed\"], pitch_constraints[pitch_type][\"min_srate\"], pitch_constraints[pitch_type][\"min_sdir\"]], \\\n",
    "            [pitch_constraints[pitch_type][\"max_speed\"], pitch_constraints[pitch_type][\"max_srate\"], pitch_constraints[pitch_type][\"max_sdir\"]])\n",
    "    for zone in ZONES:\n",
    "        #print(pitch_type, zone)\n",
    "        args = (model, context_df, pitch_type, zone)\n",
    "\n",
    "        x0 = [pitch_constraints[pitch_type][\"max_speed\"], pitch_constraints[pitch_type][\"max_srate\"], pitch_constraints[pitch_type][\"max_sdir\"]]\n",
    "\n",
    "        optim = scipy.optimize.minimize(objective, x0, args=args,\\\n",
    "             method='trust-constr', bounds=bounds, tol = 1e-4, options={\"maxiter\": 25})\n",
    "\n",
    "        if optim.fun < max_score:\n",
    "            max_score = optim.fun\n",
    "            max_pitch = {\"Pitch Type\": pitch_type, \\\n",
    "                        \"Zone\": zone,\n",
    "                        \"Speed\": optim.x[0], \\\n",
    "                        \"Spin Rate\": optim.x[1],\n",
    "                        \"Spin Dir\": optim.x[2],\n",
    "                        \"Score\": -optim.fun}\n",
    "        \n",
    "print(max_pitch)\n"
   ]
  }
 ],
 "metadata": {
  "interpreter": {
   "hash": "aee8b7b246df8f9039afb4144a1f6fd8d2ca17a180786b69acc140d282b71a49"
  },
  "kernelspec": {
   "display_name": "Python 3.10.5 64-bit",
   "language": "python",
   "name": "python3"
  },
  "language_info": {
   "codemirror_mode": {
    "name": "ipython",
    "version": 3
   },
   "file_extension": ".py",
   "mimetype": "text/x-python",
   "name": "python",
   "nbconvert_exporter": "python",
   "pygments_lexer": "ipython3",
   "version": "3.10.5"
  },
  "orig_nbformat": 4
 },
 "nbformat": 4,
 "nbformat_minor": 2
}
